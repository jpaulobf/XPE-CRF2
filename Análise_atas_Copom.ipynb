{
  "cells": [
    {
      "cell_type": "markdown",
      "metadata": {
        "id": "view-in-github",
        "colab_type": "text"
      },
      "source": [
        "<a href=\"https://colab.research.google.com/github/jpaulobf/XPE-CRF2/blob/main/An%C3%A1lise_atas_Copom.ipynb\" target=\"_parent\"><img src=\"https://colab.research.google.com/assets/colab-badge.svg\" alt=\"Open In Colab\"/></a>"
      ]
    },
    {
      "cell_type": "code",
      "execution_count": null,
      "metadata": {
        "id": "ElbMLH73GsXg"
      },
      "outputs": [],
      "source": [
        "import pandas as pd\n",
        "pd.set_option(\"display.max_colwidth\", 150)\n",
        "pd.set_option(\"display.min_rows\", 20)\n",
        "\n",
        "import urllib.request, json"
      ]
    },
    {
      "cell_type": "markdown",
      "metadata": {
        "id": "tMNFEsOUGsXi"
      },
      "source": [
        "1. Buscando dados"
      ]
    },
    {
      "cell_type": "code",
      "execution_count": null,
      "metadata": {
        "id": "s3ajrzWsGsXi"
      },
      "outputs": [],
      "source": [
        "import json"
      ]
    },
    {
      "cell_type": "code",
      "execution_count": null,
      "metadata": {
        "id": "SBcMrNm1GsXi"
      },
      "outputs": [],
      "source": [
        "url = 'https://www.bcb.gov.br/api/servico/sitebcb/atascopom/ultimas?quantidade=1000&filtro='"
      ]
    },
    {
      "cell_type": "code",
      "execution_count": null,
      "metadata": {
        "id": "aF79KkfDGsXi"
      },
      "outputs": [],
      "source": [
        "import urllib.request, json\n",
        "with urllib.request.urlopen(url) as url:\n",
        "    data = json.load(url)\n",
        "    print(data)"
      ]
    },
    {
      "cell_type": "code",
      "execution_count": null,
      "metadata": {
        "id": "Kg4lwwEEGsXi"
      },
      "outputs": [],
      "source": [
        "data['conteudo'][0:3]"
      ]
    },
    {
      "cell_type": "code",
      "execution_count": null,
      "metadata": {
        "id": "uYlCS6G8GsXj"
      },
      "outputs": [],
      "source": [
        "df = pd.DataFrame(data['conteudo'])"
      ]
    },
    {
      "cell_type": "code",
      "execution_count": null,
      "metadata": {
        "id": "XOcgCKhEGsXj"
      },
      "outputs": [],
      "source": [
        "df.head()"
      ]
    },
    {
      "cell_type": "code",
      "execution_count": null,
      "metadata": {
        "id": "bbqxkDyqGsXj",
        "colab": {
          "base_uri": "https://localhost:8080/",
          "height": 35
        },
        "outputId": "65cecce6-a120-4d70-e981-41c6dfefedc4"
      },
      "outputs": [
        {
          "output_type": "execute_result",
          "data": {
            "text/plain": [
              "'2023'"
            ],
            "application/vnd.google.colaboratory.intrinsic+json": {
              "type": "string"
            }
          },
          "metadata": {},
          "execution_count": 10
        }
      ],
      "source": [
        "df.iloc[0]['LinkPagina'][-4:]"
      ]
    },
    {
      "cell_type": "code",
      "execution_count": null,
      "metadata": {
        "id": "D5edNI-zGsXj"
      },
      "outputs": [],
      "source": [
        "df[df.LinkPagina.str.endswith('2021')]"
      ]
    },
    {
      "cell_type": "code",
      "execution_count": null,
      "metadata": {
        "id": "mr89u1pDGsXj"
      },
      "outputs": [],
      "source": [
        "df[(df.LinkPagina.str.endswith('2021')) | (df.LinkPagina.str.endswith('2020')) | (df.LinkPagina.str.endswith('2019'))]"
      ]
    },
    {
      "cell_type": "code",
      "execution_count": null,
      "metadata": {
        "id": "h85qj6LFGsXj"
      },
      "outputs": [],
      "source": [
        "lista_urls = df[(df.LinkPagina.str.endswith('2021')) | (df.LinkPagina.str.endswith('2020')) | (df.LinkPagina.str.endswith('2019'))]['Url'].to_list()"
      ]
    },
    {
      "cell_type": "code",
      "execution_count": null,
      "metadata": {
        "id": "JU61oXptGsXj"
      },
      "outputs": [],
      "source": [
        "lista_urls"
      ]
    },
    {
      "cell_type": "code",
      "execution_count": null,
      "metadata": {
        "id": "0D1YB-EvGsXj"
      },
      "outputs": [],
      "source": [
        "def download_pdfs(lista_urls):\n",
        "\n",
        "    lista_arquivos = []\n",
        "\n",
        "    for url in lista_urls:\n",
        "        nome_arquivo = url[url.rfind(\"/\") + 1:]\n",
        "        urllib.request.urlretrieve(\"https://www.bcb.gov.br\" + url, nome_arquivo)\n",
        "        lista_arquivos.append(nome_arquivo)\n",
        "\n",
        "    return lista_arquivos"
      ]
    },
    {
      "cell_type": "code",
      "execution_count": null,
      "metadata": {
        "id": "efFC-u3UGsXj"
      },
      "outputs": [],
      "source": [
        "lista_arquivos = download_pdfs(lista_urls)"
      ]
    },
    {
      "cell_type": "code",
      "execution_count": null,
      "metadata": {
        "id": "tptj0taCGsXj"
      },
      "outputs": [],
      "source": [
        "lista_arquivos"
      ]
    },
    {
      "cell_type": "code",
      "execution_count": null,
      "metadata": {
        "id": "tITv8xXNGsXj"
      },
      "outputs": [],
      "source": [
        "!pip install pdfplumber"
      ]
    },
    {
      "cell_type": "code",
      "execution_count": null,
      "metadata": {
        "id": "AdCETGF6GsXj"
      },
      "outputs": [],
      "source": [
        "import pdfplumber"
      ]
    },
    {
      "cell_type": "code",
      "source": [
        "lista_textos = []\n",
        "lista_nomes = []"
      ],
      "metadata": {
        "id": "JZJ15sMSZn8i"
      },
      "execution_count": null,
      "outputs": []
    },
    {
      "cell_type": "code",
      "execution_count": null,
      "metadata": {
        "id": "Se8U6LCXGsXj"
      },
      "outputs": [],
      "source": [
        "def pdf_to_txt(lista_arquivos):\n",
        "\n",
        "    for arquivo in lista_arquivos:\n",
        "\n",
        "        with pdfplumber.open(\"./\" + arquivo) as pdf:\n",
        "            paginas = pdf.pages[2:]\n",
        "            texto = \"\"\n",
        "\n",
        "            for pagina in paginas:\n",
        "                texto += pagina.extract_text()\n",
        "                texto.encode('utf-8', 'ignore').decode('utf-8')\n",
        "\n",
        "            lista_textos.append(texto)\n",
        "            lista_nomes.append(arquivo)\n",
        "\n",
        "            #with open(arquivo.replace('.pdf', '.txt'), 'w') as f:\n",
        "            #    f.write(texto)"
      ]
    },
    {
      "cell_type": "code",
      "execution_count": null,
      "metadata": {
        "id": "ooeHeqJeGsXk"
      },
      "outputs": [],
      "source": [
        "pdf_to_txt(lista_arquivos[:-1])"
      ]
    },
    {
      "cell_type": "markdown",
      "metadata": {
        "id": "Yt7FznuHGsXk"
      },
      "source": [
        "### Análise"
      ]
    },
    {
      "cell_type": "code",
      "execution_count": null,
      "metadata": {
        "id": "7qVNG4sLGsXk"
      },
      "outputs": [],
      "source": [
        "from nltk.probability import FreqDist\n",
        "from nltk.tokenize import word_tokenize\n",
        "import nltk"
      ]
    },
    {
      "cell_type": "code",
      "source": [
        "nltk.download('punkt')"
      ],
      "metadata": {
        "colab": {
          "base_uri": "https://localhost:8080/"
        },
        "id": "9oEH3yPyJ96a",
        "outputId": "52966018-6017-4e05-fa30-0ff296c5efb8"
      },
      "execution_count": null,
      "outputs": [
        {
          "output_type": "stream",
          "name": "stderr",
          "text": [
            "[nltk_data] Downloading package punkt to /root/nltk_data...\n",
            "[nltk_data]   Unzipping tokenizers/punkt.zip.\n"
          ]
        },
        {
          "output_type": "execute_result",
          "data": {
            "text/plain": [
              "True"
            ]
          },
          "metadata": {},
          "execution_count": 25
        }
      ]
    },
    {
      "cell_type": "code",
      "execution_count": null,
      "metadata": {
        "id": "JIeYM9MrGsXk"
      },
      "outputs": [],
      "source": [
        "arquivo = \"Copom243-not20211208243.txt\""
      ]
    },
    {
      "cell_type": "code",
      "execution_count": 44,
      "metadata": {
        "id": "0OZltY5JGsXk"
      },
      "outputs": [],
      "source": [
        "texto = \"\"\n",
        "#with open(arquivo, 'r') as f:\n",
        "#    texto = f.read()\n",
        "#texto"
      ]
    },
    {
      "cell_type": "code",
      "execution_count": 45,
      "metadata": {
        "id": "ibszcie3GsXk"
      },
      "outputs": [],
      "source": [
        "#texto = \"\"\n",
        "#with open(arquivo, 'r') as f:\n",
        "#    texto = f.read().replace('\\n', ' ').lower()"
      ]
    },
    {
      "cell_type": "code",
      "execution_count": null,
      "metadata": {
        "id": "u4npG7PtGsXk"
      },
      "outputs": [],
      "source": [
        "texto"
      ]
    },
    {
      "cell_type": "code",
      "execution_count": null,
      "metadata": {
        "id": "0hRiRNXOGsXk"
      },
      "outputs": [],
      "source": [
        "frequency_distribution = FreqDist(word.lower() for word in word_tokenize(texto))"
      ]
    },
    {
      "cell_type": "code",
      "execution_count": null,
      "metadata": {
        "id": "XcjOkT0xGsXk"
      },
      "outputs": [],
      "source": [
        "frequency_distribution.most_common(20)"
      ]
    },
    {
      "cell_type": "code",
      "execution_count": null,
      "metadata": {
        "id": "8MrrYOFqGsXk"
      },
      "outputs": [],
      "source": [
        "nltk.download('stopwords')"
      ]
    },
    {
      "cell_type": "code",
      "execution_count": null,
      "metadata": {
        "id": "2j4oeZwuGsXk"
      },
      "outputs": [],
      "source": [
        "stopwords = nltk.corpus.stopwords.words('portuguese')"
      ]
    },
    {
      "cell_type": "code",
      "execution_count": null,
      "metadata": {
        "id": "PFGuhPM9GsXk"
      },
      "outputs": [],
      "source": [
        "frequency_distribution = FreqDist(word.lower() for word in word_tokenize(texto) if word not in stopwords)"
      ]
    },
    {
      "cell_type": "code",
      "execution_count": null,
      "metadata": {
        "id": "ia7OoOaZGsXk",
        "colab": {
          "base_uri": "https://localhost:8080/"
        },
        "outputId": "54e80871-3f9e-44df-c025-007a2d5f2169"
      },
      "outputs": [
        {
          "output_type": "execute_result",
          "data": {
            "text/plain": [
              "[]"
            ]
          },
          "metadata": {},
          "execution_count": 34
        }
      ],
      "source": [
        "frequency_distribution.most_common(20)"
      ]
    },
    {
      "cell_type": "code",
      "execution_count": null,
      "metadata": {
        "id": "voLFO2x1GsXk"
      },
      "outputs": [],
      "source": [
        "from string import punctuation\n",
        "lista_adicional = ['2019', '2020', '2021', '2022', '2023', 'copom', 'comitê']\n",
        "stopwords = set(list(stopwords) + list(punctuation) + lista_adicional)"
      ]
    },
    {
      "cell_type": "code",
      "execution_count": null,
      "metadata": {
        "id": "0ny49mtfGsXk"
      },
      "outputs": [],
      "source": [
        "frequency_distribution = FreqDist(word.lower() for word in word_tokenize(texto) if word.lower() not in stopwords)\n",
        "frequency_distribution.most_common(20)"
      ]
    },
    {
      "cell_type": "code",
      "execution_count": null,
      "metadata": {
        "id": "m9hj6O4SGsXk"
      },
      "outputs": [],
      "source": [
        "dict_top = {}\n",
        "counter = 0\n",
        "\n",
        "#for arquivo in lista_arquivos:\n",
        "#    with open(arquivo, 'r') as f:\n",
        "#        texto = f.read().replace('\\n', ' ').lower()\n",
        "#        frequency_distribution = FreqDist(word for word in word_tokenize(texto) if word not in stopwords)\n",
        "#        dict_top[arquivo.replace('.txt', '')] = frequency_distribution.most_common(10)\n",
        "\n",
        "\n",
        "for arquivo in lista_textos:\n",
        "    texto = arquivo.replace('\\n', ' ').lower()\n",
        "    frequency_distribution = FreqDist(word for word in word_tokenize(texto) if word not in stopwords)\n",
        "    dict_top[lista_nomes[counter]] = frequency_distribution.most_common(10)\n",
        "    counter = counter + 1"
      ]
    },
    {
      "cell_type": "code",
      "execution_count": null,
      "metadata": {
        "id": "9giqsCNKGsXk"
      },
      "outputs": [],
      "source": [
        "df = pd.DataFrame(dict_top)"
      ]
    },
    {
      "cell_type": "code",
      "execution_count": null,
      "metadata": {
        "id": "sS13q_1oGsXr"
      },
      "outputs": [],
      "source": [
        "df.T.sort_index().head(25)"
      ]
    },
    {
      "cell_type": "markdown",
      "metadata": {
        "id": "p4OLIOwyGsXr"
      },
      "source": [
        "Bigramas"
      ]
    },
    {
      "cell_type": "code",
      "execution_count": null,
      "metadata": {
        "id": "CZFCwIw4GsXs"
      },
      "outputs": [],
      "source": [
        "dict_top_bigram = {}\n",
        "counter = 0\n",
        "\n",
        "#for arquivo in lista_arquivos:\n",
        "\n",
        "    #with open(arquivo, 'r') as f:\n",
        "    #    texto = f.read().replace('\\n', ' ').lower()\n",
        "    #    frequency_distribution = FreqDist(word for word in nltk.bigrams([word for word in word_tokenize(texto) if word not in stopwords]))\n",
        "    #    dict_top_bigram[arquivo.replace('.txt', '')] = frequency_distribution.most_common(10)\n",
        "\n",
        "for arquivo in lista_textos:\n",
        "    texto = arquivo.replace('\\n', ' ').lower()\n",
        "    frequency_distribution = FreqDist(word for word in nltk.bigrams([word for word in word_tokenize(texto) if word not in stopwords]))\n",
        "    dict_top_bigram[lista_nomes[counter]] = frequency_distribution.most_common(10)\n",
        "    counter = counter + 1"
      ]
    },
    {
      "cell_type": "code",
      "execution_count": null,
      "metadata": {
        "id": "ttptsFyaGsXs"
      },
      "outputs": [],
      "source": [
        "df = pd.DataFrame(dict_top_bigram)\n",
        "df.T.sort_index().head(25)"
      ]
    },
    {
      "cell_type": "markdown",
      "metadata": {
        "id": "Oaq5pywBGsXs"
      },
      "source": [
        "Trigramas"
      ]
    },
    {
      "cell_type": "code",
      "execution_count": null,
      "metadata": {
        "id": "YJdGsZPGGsXs"
      },
      "outputs": [],
      "source": [
        "dict_top_trigram = {}\n",
        "counter = 0\n",
        "\n",
        "#for arquivo in lista_arquivos:\n",
        "\n",
        "    #with open(arquivo, 'r') as f:\n",
        "    #    texto = f.read().replace('\\n', ' ').lower()\n",
        "    #    frequency_distribution = FreqDist(word for word in nltk.trigrams([word for word in word_tokenize(texto) if word not in stopwords]))\n",
        "    #    dict_top_trigram[arquivo.replace('.txt', '')] = frequency_distribution.most_common(10)\n",
        "\n",
        "for arquivo in lista_textos:\n",
        "    texto = arquivo.replace('\\n', ' ').lower()\n",
        "    frequency_distribution = FreqDist(word for word in nltk.trigrams([word for word in word_tokenize(texto) if word not in stopwords]))\n",
        "    dict_top_trigram[lista_nomes[counter]] = frequency_distribution.most_common(10)\n",
        "    counter = counter + 1"
      ]
    },
    {
      "cell_type": "code",
      "execution_count": null,
      "metadata": {
        "id": "_IwkiiO8GsXs"
      },
      "outputs": [],
      "source": [
        "df = pd.DataFrame(dict_top_trigram)\n",
        "df.T.sort_index().head(25)"
      ]
    }
  ],
  "metadata": {
    "instance_type": "ml.t3.medium",
    "kernelspec": {
      "display_name": "Python 3 (Data Science)",
      "language": "python",
      "name": "python3__SAGEMAKER_INTERNAL__arn:aws:sagemaker:sa-east-1:782484402741:image/datascience-1.0"
    },
    "language_info": {
      "codemirror_mode": {
        "name": "ipython",
        "version": 3
      },
      "file_extension": ".py",
      "mimetype": "text/x-python",
      "name": "python",
      "nbconvert_exporter": "python",
      "pygments_lexer": "ipython3",
      "version": "3.7.10"
    },
    "vscode": {
      "interpreter": {
        "hash": "bce320103a4f9599bf42cb45744b1f3acee8930c6f7dcdff248089a2e65863cd"
      }
    },
    "colab": {
      "provenance": [],
      "include_colab_link": true
    }
  },
  "nbformat": 4,
  "nbformat_minor": 0
}